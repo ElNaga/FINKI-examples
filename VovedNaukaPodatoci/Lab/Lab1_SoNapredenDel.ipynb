{
  "cells": [
    {
      "cell_type": "markdown",
      "metadata": {
        "id": "O2aVv0FBqJPU"
      },
      "source": [
        "<ul><font size = 5 color='Orange'>\n",
        "Learning Goals</font>\n",
        "<font color = 'Orange'><li>Understand the structure of a web page.</li>\n",
        "<li>Understand how to use Beautiful soup to scrape content from web pages.</li>\n",
        "<li>Feel comfortable storing and manipulating the content in various formats.</li>\n",
        "<li>Understand how to convert structured format into a Pandas DataFrame.</li>\n",
        "</font>\n",
        "</ul>"
      ]
    },
    {
      "cell_type": "markdown",
      "metadata": {
        "id": "2379H1uJaOR4"
      },
      "source": [
        "<font size = 4 color = \"green\">For this homework your job is to find a web-site from which you will extract the data, we are suggestioning for a local-site like time.mk, sitel.mk, vecer.mk, panacea.mk, reklama5.mk, etc. Accordinly with the choice you've made make a quick summary why did you use especially this web-site and what is the part of interest.</font>"
      ]
    },
    {
      "cell_type": "markdown",
      "metadata": {
        "id": "W8lsmxJhkvt4"
      },
      "source": [
        "#<font color = 'Orange'>Explain the Web-site that you will be using in this homework.</font>"
      ]
    },
    {
      "cell_type": "markdown",
      "metadata": {
        "id": "kWjXxdUblDGh"
      },
      "source": [
        "In the following text-box answer the questions:\n",
        "<li>What data you will be extracting and why?</li>\n",
        "<li>Add a screenshot of the web-site that you will be scraping</li>\n",
        "\n"
      ]
    },
    {
      "cell_type": "markdown",
      "metadata": {
        "id": "j_BuTnyEmHMg"
      },
      "source": [
        "https://kliknijadi.mk - to scrape information for all restaurants in Macedonia"
      ]
    },
    {
      "cell_type": "markdown",
      "metadata": {},
      "source": [
        "img removed for size reduction"
      ]
    },
    {
      "cell_type": "markdown",
      "metadata": {
        "id": "E9QJzcuLme9J"
      },
      "source": [
        "# <font color='Orange'>Requirements specified for Web Scraping</font>\n"
      ]
    },
    {
      "cell_type": "markdown",
      "metadata": {
        "id": "nUtpcRz3mq7p"
      },
      "source": [
        "Import all libraries and modules that you are going to use."
      ]
    },
    {
      "cell_type": "code",
      "execution_count": 2,
      "metadata": {
        "id": "-llJJ2vVmmgU"
      },
      "outputs": [],
      "source": [
        "import requests\n",
        "from bs4 import BeautifulSoup\n",
        "import pandas as pd"
      ]
    },
    {
      "cell_type": "markdown",
      "metadata": {
        "id": "fJ0KNuMwm6F3"
      },
      "source": [
        "# <font color = 'Orange'> Start the scraping by sending HTTP request</font> "
      ]
    },
    {
      "cell_type": "markdown",
      "metadata": {
        "id": "4JZurHezsLpU"
      },
      "source": [
        " **Fetch a website's content - send request**"
      ]
    },
    {
      "cell_type": "code",
      "execution_count": 3,
      "metadata": {
        "colab": {
          "base_uri": "https://localhost:8080/"
        },
        "id": "Yj4JPQ6proYR",
        "outputId": "2bac4094-3ed3-4dff-b133-ae42faa74b56"
      },
      "outputs": [
        {
          "data": {
            "text/plain": [
              "<Response [200]>"
            ]
          },
          "execution_count": 3,
          "metadata": {},
          "output_type": "execute_result"
        }
      ],
      "source": [
        "data = requests.get(\"https://kliknijadi.mk\")\n",
        "data"
      ]
    },
    {
      "cell_type": "markdown",
      "metadata": {
        "id": "Tq_F8bt4rmb9"
      },
      "source": [
        "**Get the response-status code and see:**\n",
        "<li>If the code starts with a 2, it means the request was successful.\n",
        "\n"
      ]
    },
    {
      "cell_type": "code",
      "execution_count": 4,
      "metadata": {
        "colab": {
          "base_uri": "https://localhost:8080/"
        },
        "id": "YXHM_22dtLyq",
        "outputId": "04e03aad-fcc0-41f6-9e6f-b5cc6d669b86"
      },
      "outputs": [
        {
          "data": {
            "text/plain": [
              "200"
            ]
          },
          "execution_count": 4,
          "metadata": {},
          "output_type": "execute_result"
        }
      ],
      "source": [
        "data.status_code"
      ]
    },
    {
      "cell_type": "markdown",
      "metadata": {
        "id": "os6BnZqJuZpU"
      },
      "source": [
        "# <font color = 'orange'>Parse the HTML with BeautifulSoup</font>"
      ]
    },
    {
      "cell_type": "markdown",
      "metadata": {
        "id": "E7lcI0U3ua9r"
      },
      "source": [
        "Beautiful Soup is a Python library for pulling data out of HTML and XML files. It works with your favorite parser to provide idiomatic ways of navigating, searching, and modifying the parse tree. It commonly saves programmers hours or days of work. \n"
      ]
    },
    {
      "cell_type": "markdown",
      "metadata": {
        "id": "TA4fBO6mvBDq"
      },
      "source": [
        "**Parse using BeautifulSoap**\n",
        "\n",
        "\n"
      ]
    },
    {
      "cell_type": "code",
      "execution_count": 5,
      "metadata": {
        "id": "qFKmBAsguaLg"
      },
      "outputs": [],
      "source": [
        "soup = BeautifulSoup(data.text, \"html.parser\")"
      ]
    },
    {
      "cell_type": "markdown",
      "metadata": {
        "id": "JWe6_oBCu0LL"
      },
      "source": [
        "**Print the HTML code that you get**"
      ]
    },
    {
      "cell_type": "code",
      "execution_count": 6,
      "metadata": {
        "colab": {
          "base_uri": "https://localhost:8080/"
        },
        "id": "JN5BWb8Lu4_y",
        "outputId": "a3c7bd20-7512-4a98-e207-94ef9dcd8183"
      },
      "outputs": [],
      "source": [
        "#soup"
      ]
    },
    {
      "cell_type": "markdown",
      "metadata": {
        "id": "mqvuxiNJvOT8"
      },
      "source": [
        "# <font color='Orange'>Extracting data</font>"
      ]
    },
    {
      "cell_type": "markdown",
      "metadata": {
        "id": "gbdg1SjjvTmB"
      },
      "source": [
        "From the printed HTML code search for the data you need for building the dataset, find the classes for groupby option.\n",
        "\n",
        "**In the following text-box write the attributes you are going to use**"
      ]
    },
    {
      "cell_type": "markdown",
      "metadata": {
        "id": "6ygtTW4PmNmW"
      },
      "source": [
        "<font color='red'> You need to extract a minimum of four features (lists/columns) from the web site (example: titles, posting time, comments, likes, ...)</font>"
      ]
    },
    {
      "cell_type": "markdown",
      "metadata": {
        "id": "s4-413sPvzUy"
      },
      "source": [
        "`title, category, delivery_price, delivery_time` "
      ]
    },
    {
      "cell_type": "markdown",
      "metadata": {
        "id": "rl9n1bepzUdy"
      },
      "source": [
        "**Try to select the first element from your attributes. Find out from the html code what part do you need.**"
      ]
    },
    {
      "cell_type": "markdown",
      "metadata": {
        "id": "-uwnRbCNhEft"
      },
      "source": [
        "### Title"
      ]
    },
    {
      "cell_type": "code",
      "execution_count": 9,
      "metadata": {
        "colab": {
          "base_uri": "https://localhost:8080/"
        },
        "id": "z7JDG2pGvSTo",
        "outputId": "3bb2cebe-d1c2-4308-b33b-c7fb49784962"
      },
      "outputs": [
        {
          "data": {
            "text/plain": [
              "[<div class=\"cbp-l-grid-agency-title\">BAKING BREAD BURGERS LEPTOKARIJA</div>,\n",
              " <div class=\"cbp-l-grid-agency-title\">СКОПСКИ МЕРАК</div>,\n",
              " <div class=\"cbp-l-grid-agency-title\">ДУКАТ</div>,\n",
              " <div class=\"cbp-l-grid-agency-title\">DOMINO`S PIZZA KARPOS</div>,\n",
              " <div class=\"cbp-l-grid-agency-title\">DOMINO`S PIZZA CENTAR</div>]"
            ]
          },
          "execution_count": 9,
          "metadata": {},
          "output_type": "execute_result"
        }
      ],
      "source": [
        "title_elements = soup.select(\".cbp-l-grid-agency-title\")\n",
        "title_elements[:5]"
      ]
    },
    {
      "cell_type": "markdown",
      "metadata": {
        "id": "al-yo0VUhH_Z"
      },
      "source": [
        "### Category"
      ]
    },
    {
      "cell_type": "code",
      "execution_count": 10,
      "metadata": {
        "colab": {
          "base_uri": "https://localhost:8080/"
        },
        "id": "NK1aPi4OhKnC",
        "outputId": "699622d3-6c1d-44ff-91d7-a59f51be6caf"
      },
      "outputs": [
        {
          "data": {
            "text/plain": [
              "[<div class=\"cbp-l-grid-agency-desc\">Американска</div>,\n",
              " <div class=\"cbp-l-grid-agency-desc\">Македонска</div>,\n",
              " <div class=\"cbp-l-grid-agency-desc\">Македонска</div>,\n",
              " <div class=\"cbp-l-grid-agency-desc\">Американска</div>,\n",
              " <div class=\"cbp-l-grid-agency-desc\">Американска</div>]"
            ]
          },
          "execution_count": 10,
          "metadata": {},
          "output_type": "execute_result"
        }
      ],
      "source": [
        "category_elements = soup.select(\".cbp-l-grid-agency-desc\")\n",
        "category_elements[:5]"
      ]
    },
    {
      "cell_type": "markdown",
      "metadata": {
        "id": "ABu8aL6uhVOJ"
      },
      "source": [
        "### Delivery price"
      ]
    },
    {
      "cell_type": "code",
      "execution_count": 11,
      "metadata": {
        "colab": {
          "base_uri": "https://localhost:8080/"
        },
        "id": "LF7Rs-PyhU7T",
        "outputId": "620d94a2-b1f0-4df7-8b8c-c9855d4a227b"
      },
      "outputs": [
        {
          "data": {
            "text/plain": [
              "[<div class=\"wrap-delivery\"><img class=\"dostava-img\" src=\"/Images/mali/dostava.png\"> 80 ден.</img></div>,\n",
              " <div class=\"wrap-delivery\"><img class=\"dostava-img\" src=\"/Images/mali/dostava.png\"> 80 ден.</img></div>,\n",
              " <div class=\"wrap-delivery\"><img class=\"dostava-img\" src=\"/Images/mali/dostava.png\"> 80 ден.</img></div>,\n",
              " <div class=\"wrap-delivery\"><img class=\"dostava-img\" src=\"/Images/mali/dostava.png\"> 80 ден.</img></div>,\n",
              " <div class=\"wrap-delivery\"><img class=\"dostava-img\" src=\"/Images/mali/dostava.png\"> 80 ден.</img></div>]"
            ]
          },
          "execution_count": 11,
          "metadata": {},
          "output_type": "execute_result"
        }
      ],
      "source": [
        "price_elements = soup.select(\".wrap-delivery\")\n",
        "price_elements[:5]"
      ]
    },
    {
      "cell_type": "markdown",
      "metadata": {
        "id": "nM6kRpwRhzUs"
      },
      "source": [
        "### Delivery time"
      ]
    },
    {
      "cell_type": "code",
      "execution_count": 12,
      "metadata": {
        "colab": {
          "base_uri": "https://localhost:8080/"
        },
        "id": "zN-oCGVkh17P",
        "outputId": "2c37ff47-4ba8-45c2-be07-fd7ba1427c5e"
      },
      "outputs": [
        {
          "data": {
            "text/plain": [
              "[<div class=\"wrap-time\"><i class=\"fa fa-clock-o\"></i> 30-60 мин.</div>,\n",
              " <div class=\"wrap-time\"><i class=\"fa fa-clock-o\"></i> 30-60 мин.</div>,\n",
              " <div class=\"wrap-time\"><i class=\"fa fa-clock-o\"></i> 30-60 мин.</div>,\n",
              " <div class=\"wrap-time\"><i class=\"fa fa-clock-o\"></i> 30-60 мин.</div>,\n",
              " <div class=\"wrap-time\"><i class=\"fa fa-clock-o\"></i> 30-60 мин.</div>]"
            ]
          },
          "execution_count": 12,
          "metadata": {},
          "output_type": "execute_result"
        }
      ],
      "source": [
        "time_elements = soup.select(\".wrap-time\")\n",
        "time_elements[:5]"
      ]
    },
    {
      "cell_type": "markdown",
      "metadata": {
        "id": "3FYrNwA2xRYi"
      },
      "source": [
        "**Create lists with the extracted data from the html elements that you selected**"
      ]
    },
    {
      "cell_type": "code",
      "execution_count": 13,
      "metadata": {
        "id": "Dpn7STkFxVVq"
      },
      "outputs": [],
      "source": [
        "titles = [el.text for el in title_elements]\n",
        "categories = [el.text for el in category_elements]\n",
        "times = [el.text for el in time_elements]\n",
        "prices = [el.text for el in price_elements]"
      ]
    },
    {
      "cell_type": "markdown",
      "metadata": {
        "id": "owIxGxmHxFSF"
      },
      "source": [
        "**Print all lists that are containing the elements**"
      ]
    },
    {
      "cell_type": "code",
      "execution_count": 14,
      "metadata": {
        "colab": {
          "base_uri": "https://localhost:8080/"
        },
        "id": "Etep-NWrxP57",
        "outputId": "250c6fb5-5dc2-4552-85a8-abce7e12f044"
      },
      "outputs": [],
      "source": [
        "#print(titles)\n",
        "#print(categories)\n",
        "#print(times)\n",
        "#print(prices)"
      ]
    },
    {
      "cell_type": "markdown",
      "metadata": {
        "id": "xrgwuG6CxtDM"
      },
      "source": [
        "**Check if all lists are the same size**"
      ]
    },
    {
      "cell_type": "code",
      "execution_count": null,
      "metadata": {
        "colab": {
          "base_uri": "https://localhost:8080/"
        },
        "id": "mwkhPgtQx7E0",
        "outputId": "2c268b3e-88d9-47e2-9904-68f305385f5c"
      },
      "outputs": [
        {
          "name": "stdout",
          "output_type": "stream",
          "text": [
            "228\n",
            "228\n",
            "228\n",
            "228\n"
          ]
        }
      ],
      "source": [
        "print(len(titles))\n",
        "print(len(categories))\n",
        "print(len(times))\n",
        "print(len(prices))"
      ]
    },
    {
      "cell_type": "markdown",
      "metadata": {
        "id": "lH_ppKn4yD5b"
      },
      "source": [
        "# <font color='Orange'>Create a Pandas DataFrame</font> \n"
      ]
    },
    {
      "cell_type": "markdown",
      "metadata": {
        "id": "tU3fJNVuyKTA"
      },
      "source": [
        "**Create the DataFrame from the lists you get and name your *Columns***"
      ]
    },
    {
      "cell_type": "code",
      "execution_count": null,
      "metadata": {
        "colab": {
          "base_uri": "https://localhost:8080/",
          "height": 206
        },
        "id": "bFURoHfTyJt2",
        "outputId": "80b3cc5e-464d-4a5c-92a0-94bd66d052dc"
      },
      "outputs": [
        {
          "data": {
            "text/html": [
              "\n",
              "  <div id=\"df-5dcdcb80-95a4-49c1-87b7-926362d2fc4a\">\n",
              "    <div class=\"colab-df-container\">\n",
              "      <div>\n",
              "<style scoped>\n",
              "    .dataframe tbody tr th:only-of-type {\n",
              "        vertical-align: middle;\n",
              "    }\n",
              "\n",
              "    .dataframe tbody tr th {\n",
              "        vertical-align: top;\n",
              "    }\n",
              "\n",
              "    .dataframe thead th {\n",
              "        text-align: right;\n",
              "    }\n",
              "</style>\n",
              "<table border=\"1\" class=\"dataframe\">\n",
              "  <thead>\n",
              "    <tr style=\"text-align: right;\">\n",
              "      <th></th>\n",
              "      <th>title</th>\n",
              "      <th>category</th>\n",
              "      <th>delivery_time</th>\n",
              "      <th>delivery_price</th>\n",
              "    </tr>\n",
              "  </thead>\n",
              "  <tbody>\n",
              "    <tr>\n",
              "      <th>0</th>\n",
              "      <td>POLLEO SPORT</td>\n",
              "      <td>Протеинска</td>\n",
              "      <td>30-60 мин.</td>\n",
              "      <td>80 ден.</td>\n",
              "    </tr>\n",
              "    <tr>\n",
              "      <th>1</th>\n",
              "      <td>OENO Bar Wine Selection</td>\n",
              "      <td>Алкохол</td>\n",
              "      <td>30-60 мин.</td>\n",
              "      <td>80 ден.</td>\n",
              "    </tr>\n",
              "    <tr>\n",
              "      <th>2</th>\n",
              "      <td>KAMNIK HUNTERS LODGE</td>\n",
              "      <td>Американска</td>\n",
              "      <td>30-60 мин.</td>\n",
              "      <td>80 ден.</td>\n",
              "    </tr>\n",
              "    <tr>\n",
              "      <th>3</th>\n",
              "      <td>КА ГОСТИЛНИЦА - СКАРА НА КИЛО</td>\n",
              "      <td>Македонска</td>\n",
              "      <td>30-60 мин.</td>\n",
              "      <td>80 ден.</td>\n",
              "    </tr>\n",
              "    <tr>\n",
              "      <th>4</th>\n",
              "      <td>МАРЃЕР</td>\n",
              "      <td>Македонска</td>\n",
              "      <td>30-60 мин.</td>\n",
              "      <td>80 ден.</td>\n",
              "    </tr>\n",
              "  </tbody>\n",
              "</table>\n",
              "</div>\n",
              "      <button class=\"colab-df-convert\" onclick=\"convertToInteractive('df-5dcdcb80-95a4-49c1-87b7-926362d2fc4a')\"\n",
              "              title=\"Convert this dataframe to an interactive table.\"\n",
              "              style=\"display:none;\">\n",
              "        \n",
              "  <svg xmlns=\"http://www.w3.org/2000/svg\" height=\"24px\"viewBox=\"0 0 24 24\"\n",
              "       width=\"24px\">\n",
              "    <path d=\"M0 0h24v24H0V0z\" fill=\"none\"/>\n",
              "    <path d=\"M18.56 5.44l.94 2.06.94-2.06 2.06-.94-2.06-.94-.94-2.06-.94 2.06-2.06.94zm-11 1L8.5 8.5l.94-2.06 2.06-.94-2.06-.94L8.5 2.5l-.94 2.06-2.06.94zm10 10l.94 2.06.94-2.06 2.06-.94-2.06-.94-.94-2.06-.94 2.06-2.06.94z\"/><path d=\"M17.41 7.96l-1.37-1.37c-.4-.4-.92-.59-1.43-.59-.52 0-1.04.2-1.43.59L10.3 9.45l-7.72 7.72c-.78.78-.78 2.05 0 2.83L4 21.41c.39.39.9.59 1.41.59.51 0 1.02-.2 1.41-.59l7.78-7.78 2.81-2.81c.8-.78.8-2.07 0-2.86zM5.41 20L4 18.59l7.72-7.72 1.47 1.35L5.41 20z\"/>\n",
              "  </svg>\n",
              "      </button>\n",
              "      \n",
              "  <style>\n",
              "    .colab-df-container {\n",
              "      display:flex;\n",
              "      flex-wrap:wrap;\n",
              "      gap: 12px;\n",
              "    }\n",
              "\n",
              "    .colab-df-convert {\n",
              "      background-color: #E8F0FE;\n",
              "      border: none;\n",
              "      border-radius: 50%;\n",
              "      cursor: pointer;\n",
              "      display: none;\n",
              "      fill: #1967D2;\n",
              "      height: 32px;\n",
              "      padding: 0 0 0 0;\n",
              "      width: 32px;\n",
              "    }\n",
              "\n",
              "    .colab-df-convert:hover {\n",
              "      background-color: #E2EBFA;\n",
              "      box-shadow: 0px 1px 2px rgba(60, 64, 67, 0.3), 0px 1px 3px 1px rgba(60, 64, 67, 0.15);\n",
              "      fill: #174EA6;\n",
              "    }\n",
              "\n",
              "    [theme=dark] .colab-df-convert {\n",
              "      background-color: #3B4455;\n",
              "      fill: #D2E3FC;\n",
              "    }\n",
              "\n",
              "    [theme=dark] .colab-df-convert:hover {\n",
              "      background-color: #434B5C;\n",
              "      box-shadow: 0px 1px 3px 1px rgba(0, 0, 0, 0.15);\n",
              "      filter: drop-shadow(0px 1px 2px rgba(0, 0, 0, 0.3));\n",
              "      fill: #FFFFFF;\n",
              "    }\n",
              "  </style>\n",
              "\n",
              "      <script>\n",
              "        const buttonEl =\n",
              "          document.querySelector('#df-5dcdcb80-95a4-49c1-87b7-926362d2fc4a button.colab-df-convert');\n",
              "        buttonEl.style.display =\n",
              "          google.colab.kernel.accessAllowed ? 'block' : 'none';\n",
              "\n",
              "        async function convertToInteractive(key) {\n",
              "          const element = document.querySelector('#df-5dcdcb80-95a4-49c1-87b7-926362d2fc4a');\n",
              "          const dataTable =\n",
              "            await google.colab.kernel.invokeFunction('convertToInteractive',\n",
              "                                                     [key], {});\n",
              "          if (!dataTable) return;\n",
              "\n",
              "          const docLinkHtml = 'Like what you see? Visit the ' +\n",
              "            '<a target=\"_blank\" href=https://colab.research.google.com/notebooks/data_table.ipynb>data table notebook</a>'\n",
              "            + ' to learn more about interactive tables.';\n",
              "          element.innerHTML = '';\n",
              "          dataTable['output_type'] = 'display_data';\n",
              "          await google.colab.output.renderOutput(dataTable, element);\n",
              "          const docLink = document.createElement('div');\n",
              "          docLink.innerHTML = docLinkHtml;\n",
              "          element.appendChild(docLink);\n",
              "        }\n",
              "      </script>\n",
              "    </div>\n",
              "  </div>\n",
              "  "
            ],
            "text/plain": [
              "                           title     category delivery_time delivery_price\n",
              "0                   POLLEO SPORT   Протеинска    30-60 мин.        80 ден.\n",
              "1        OENO Bar Wine Selection      Алкохол    30-60 мин.        80 ден.\n",
              "2           KAMNIK HUNTERS LODGE  Американска    30-60 мин.        80 ден.\n",
              "3  КА ГОСТИЛНИЦА - СКАРА НА КИЛО   Македонска    30-60 мин.        80 ден.\n",
              "4                         МАРЃЕР   Македонска    30-60 мин.        80 ден."
            ]
          },
          "execution_count": 36,
          "metadata": {},
          "output_type": "execute_result"
        }
      ],
      "source": [
        "df = pd.DataFrame(list(zip(titles,categories,times,prices)),columns=['title','category','delivery_time','delivery_price'])\n",
        "df.head()"
      ]
    },
    {
      "cell_type": "markdown",
      "metadata": {
        "id": "u9XJ3NE0yl9s"
      },
      "source": [
        "**Print the dataset you obtain**"
      ]
    },
    {
      "cell_type": "code",
      "execution_count": null,
      "metadata": {
        "colab": {
          "base_uri": "https://localhost:8080/",
          "height": 424
        },
        "id": "HGL5yi9fysOj",
        "outputId": "0ecba5e7-2c1a-42bb-f76f-5bbcf8c71e2d"
      },
      "outputs": [
        {
          "data": {
            "text/html": [
              "\n",
              "  <div id=\"df-7ec8855d-ee41-4ea9-9146-026a9c18e3c5\">\n",
              "    <div class=\"colab-df-container\">\n",
              "      <div>\n",
              "<style scoped>\n",
              "    .dataframe tbody tr th:only-of-type {\n",
              "        vertical-align: middle;\n",
              "    }\n",
              "\n",
              "    .dataframe tbody tr th {\n",
              "        vertical-align: top;\n",
              "    }\n",
              "\n",
              "    .dataframe thead th {\n",
              "        text-align: right;\n",
              "    }\n",
              "</style>\n",
              "<table border=\"1\" class=\"dataframe\">\n",
              "  <thead>\n",
              "    <tr style=\"text-align: right;\">\n",
              "      <th></th>\n",
              "      <th>title</th>\n",
              "      <th>category</th>\n",
              "      <th>delivery_time</th>\n",
              "      <th>delivery_price</th>\n",
              "    </tr>\n",
              "  </thead>\n",
              "  <tbody>\n",
              "    <tr>\n",
              "      <th>0</th>\n",
              "      <td>POLLEO SPORT</td>\n",
              "      <td>Протеинска</td>\n",
              "      <td>30-60 мин.</td>\n",
              "      <td>80 ден.</td>\n",
              "    </tr>\n",
              "    <tr>\n",
              "      <th>1</th>\n",
              "      <td>OENO Bar Wine Selection</td>\n",
              "      <td>Алкохол</td>\n",
              "      <td>30-60 мин.</td>\n",
              "      <td>80 ден.</td>\n",
              "    </tr>\n",
              "    <tr>\n",
              "      <th>2</th>\n",
              "      <td>KAMNIK HUNTERS LODGE</td>\n",
              "      <td>Американска</td>\n",
              "      <td>30-60 мин.</td>\n",
              "      <td>80 ден.</td>\n",
              "    </tr>\n",
              "    <tr>\n",
              "      <th>3</th>\n",
              "      <td>КА ГОСТИЛНИЦА - СКАРА НА КИЛО</td>\n",
              "      <td>Македонска</td>\n",
              "      <td>30-60 мин.</td>\n",
              "      <td>80 ден.</td>\n",
              "    </tr>\n",
              "    <tr>\n",
              "      <th>4</th>\n",
              "      <td>МАРЃЕР</td>\n",
              "      <td>Македонска</td>\n",
              "      <td>30-60 мин.</td>\n",
              "      <td>80 ден.</td>\n",
              "    </tr>\n",
              "    <tr>\n",
              "      <th>...</th>\n",
              "      <td>...</td>\n",
              "      <td>...</td>\n",
              "      <td>...</td>\n",
              "      <td>...</td>\n",
              "    </tr>\n",
              "    <tr>\n",
              "      <th>223</th>\n",
              "      <td>БРАВИА КУЈНА</td>\n",
              "      <td>Македонска</td>\n",
              "      <td>30-60 мин.</td>\n",
              "      <td>80 ден.</td>\n",
              "    </tr>\n",
              "    <tr>\n",
              "      <th>224</th>\n",
              "      <td>ПУЛС РЕСТОРАН - ЖАН МИТРЕВ КЛИНИК РЕСТОРАН</td>\n",
              "      <td>Здрава</td>\n",
              "      <td>30-60 мин.</td>\n",
              "      <td>80 ден.</td>\n",
              "    </tr>\n",
              "    <tr>\n",
              "      <th>225</th>\n",
              "      <td>ГОРСКА</td>\n",
              "      <td></td>\n",
              "      <td>30-60 мин.</td>\n",
              "      <td>200 ден.</td>\n",
              "    </tr>\n",
              "    <tr>\n",
              "      <th>226</th>\n",
              "      <td>ГОСТИЛНИЦА 10ка</td>\n",
              "      <td>Македонска, Американска</td>\n",
              "      <td>30-60 мин.</td>\n",
              "      <td>80 ден.</td>\n",
              "    </tr>\n",
              "    <tr>\n",
              "      <th>227</th>\n",
              "      <td>БУКЕТ</td>\n",
              "      <td>Македонска</td>\n",
              "      <td>30-60 мин.</td>\n",
              "      <td>80 ден.</td>\n",
              "    </tr>\n",
              "  </tbody>\n",
              "</table>\n",
              "<p>228 rows × 4 columns</p>\n",
              "</div>\n",
              "      <button class=\"colab-df-convert\" onclick=\"convertToInteractive('df-7ec8855d-ee41-4ea9-9146-026a9c18e3c5')\"\n",
              "              title=\"Convert this dataframe to an interactive table.\"\n",
              "              style=\"display:none;\">\n",
              "        \n",
              "  <svg xmlns=\"http://www.w3.org/2000/svg\" height=\"24px\"viewBox=\"0 0 24 24\"\n",
              "       width=\"24px\">\n",
              "    <path d=\"M0 0h24v24H0V0z\" fill=\"none\"/>\n",
              "    <path d=\"M18.56 5.44l.94 2.06.94-2.06 2.06-.94-2.06-.94-.94-2.06-.94 2.06-2.06.94zm-11 1L8.5 8.5l.94-2.06 2.06-.94-2.06-.94L8.5 2.5l-.94 2.06-2.06.94zm10 10l.94 2.06.94-2.06 2.06-.94-2.06-.94-.94-2.06-.94 2.06-2.06.94z\"/><path d=\"M17.41 7.96l-1.37-1.37c-.4-.4-.92-.59-1.43-.59-.52 0-1.04.2-1.43.59L10.3 9.45l-7.72 7.72c-.78.78-.78 2.05 0 2.83L4 21.41c.39.39.9.59 1.41.59.51 0 1.02-.2 1.41-.59l7.78-7.78 2.81-2.81c.8-.78.8-2.07 0-2.86zM5.41 20L4 18.59l7.72-7.72 1.47 1.35L5.41 20z\"/>\n",
              "  </svg>\n",
              "      </button>\n",
              "      \n",
              "  <style>\n",
              "    .colab-df-container {\n",
              "      display:flex;\n",
              "      flex-wrap:wrap;\n",
              "      gap: 12px;\n",
              "    }\n",
              "\n",
              "    .colab-df-convert {\n",
              "      background-color: #E8F0FE;\n",
              "      border: none;\n",
              "      border-radius: 50%;\n",
              "      cursor: pointer;\n",
              "      display: none;\n",
              "      fill: #1967D2;\n",
              "      height: 32px;\n",
              "      padding: 0 0 0 0;\n",
              "      width: 32px;\n",
              "    }\n",
              "\n",
              "    .colab-df-convert:hover {\n",
              "      background-color: #E2EBFA;\n",
              "      box-shadow: 0px 1px 2px rgba(60, 64, 67, 0.3), 0px 1px 3px 1px rgba(60, 64, 67, 0.15);\n",
              "      fill: #174EA6;\n",
              "    }\n",
              "\n",
              "    [theme=dark] .colab-df-convert {\n",
              "      background-color: #3B4455;\n",
              "      fill: #D2E3FC;\n",
              "    }\n",
              "\n",
              "    [theme=dark] .colab-df-convert:hover {\n",
              "      background-color: #434B5C;\n",
              "      box-shadow: 0px 1px 3px 1px rgba(0, 0, 0, 0.15);\n",
              "      filter: drop-shadow(0px 1px 2px rgba(0, 0, 0, 0.3));\n",
              "      fill: #FFFFFF;\n",
              "    }\n",
              "  </style>\n",
              "\n",
              "      <script>\n",
              "        const buttonEl =\n",
              "          document.querySelector('#df-7ec8855d-ee41-4ea9-9146-026a9c18e3c5 button.colab-df-convert');\n",
              "        buttonEl.style.display =\n",
              "          google.colab.kernel.accessAllowed ? 'block' : 'none';\n",
              "\n",
              "        async function convertToInteractive(key) {\n",
              "          const element = document.querySelector('#df-7ec8855d-ee41-4ea9-9146-026a9c18e3c5');\n",
              "          const dataTable =\n",
              "            await google.colab.kernel.invokeFunction('convertToInteractive',\n",
              "                                                     [key], {});\n",
              "          if (!dataTable) return;\n",
              "\n",
              "          const docLinkHtml = 'Like what you see? Visit the ' +\n",
              "            '<a target=\"_blank\" href=https://colab.research.google.com/notebooks/data_table.ipynb>data table notebook</a>'\n",
              "            + ' to learn more about interactive tables.';\n",
              "          element.innerHTML = '';\n",
              "          dataTable['output_type'] = 'display_data';\n",
              "          await google.colab.output.renderOutput(dataTable, element);\n",
              "          const docLink = document.createElement('div');\n",
              "          docLink.innerHTML = docLinkHtml;\n",
              "          element.appendChild(docLink);\n",
              "        }\n",
              "      </script>\n",
              "    </div>\n",
              "  </div>\n",
              "  "
            ],
            "text/plain": [
              "                                          title                 category  \\\n",
              "0                                  POLLEO SPORT               Протеинска   \n",
              "1                       OENO Bar Wine Selection                  Алкохол   \n",
              "2                          KAMNIK HUNTERS LODGE              Американска   \n",
              "3                 КА ГОСТИЛНИЦА - СКАРА НА КИЛО               Македонска   \n",
              "4                                        МАРЃЕР               Македонска   \n",
              "..                                          ...                      ...   \n",
              "223                                БРАВИА КУЈНА               Македонска   \n",
              "224  ПУЛС РЕСТОРАН - ЖАН МИТРЕВ КЛИНИК РЕСТОРАН                   Здрава   \n",
              "225                                      ГОРСКА                            \n",
              "226                             ГОСТИЛНИЦА 10ка  Македонска, Американска   \n",
              "227                                       БУКЕТ               Македонска   \n",
              "\n",
              "    delivery_time delivery_price  \n",
              "0      30-60 мин.        80 ден.  \n",
              "1      30-60 мин.        80 ден.  \n",
              "2      30-60 мин.        80 ден.  \n",
              "3      30-60 мин.        80 ден.  \n",
              "4      30-60 мин.        80 ден.  \n",
              "..            ...            ...  \n",
              "223    30-60 мин.        80 ден.  \n",
              "224    30-60 мин.        80 ден.  \n",
              "225    30-60 мин.       200 ден.  \n",
              "226    30-60 мин.        80 ден.  \n",
              "227    30-60 мин.        80 ден.  \n",
              "\n",
              "[228 rows x 4 columns]"
            ]
          },
          "execution_count": 37,
          "metadata": {},
          "output_type": "execute_result"
        }
      ],
      "source": [
        "df"
      ]
    },
    {
      "cell_type": "markdown",
      "metadata": {
        "id": "8TgPpI4Lqfn6"
      },
      "source": [
        "# <font color = 'Green'>Advanced part</font>\n",
        "\n",
        "<font color = 'orange'>This part is not mandatory and is intended for those who want to expand their knowledge in this field</font>"
      ]
    },
    {
      "cell_type": "markdown",
      "metadata": {
        "id": "lLgk-6xJr4N5"
      },
      "source": [
        "There are other libraries in Python that can be used to scrape a website. Some examples are Scrapy (https://scrapy.org/) and Selenium (https://selenium-python.readthedocs.io/).\n",
        "\n",
        "\n"
      ]
    },
    {
      "cell_type": "markdown",
      "metadata": {
        "id": "wyIwX-jJwI_l"
      },
      "source": [
        "## <font color = 'Green'>Extra task 1: Selenium</font> \n",
        "For the extra task you will need to take a look of the Selenium library. Here is a quick intro to this library and what features it has.\n",
        "\n",
        "Selenium is a robust framework designed to automate tests for Web Applications. It provides a way for the developer to write tests in several popular programming languages such as C#, Java, Python, Ruby, etc. This framework is developed to perform browser automation. Selenium is an excellent choice when you want to deal with Core Javascript-based web Applications and make browser automation with AJAX/PJAX Requests.\n",
        " \n",
        "View these links for more details: \n",
        "\n",
        "*   https://selenium-python.readthedocs.io/installation.html\n",
        "*   https://selenium-python.readthedocs.io/getting-started.html\n",
        "*   https://pypi.org/project/selenium-requests/\n",
        "*   https://pypi.org/project/selenium-wire/\n",
        "\n",
        "Starting code id given below.\n",
        "\n",
        "<font color =\"red\"> During the laboratory exercise, will be defined which side and what will need to be extracted using Selenium library</font>\n",
        "\n"
      ]
    },
    {
      "cell_type": "code",
      "execution_count": 15,
      "metadata": {
        "colab": {
          "base_uri": "https://localhost:8080/"
        },
        "id": "SJyFFHZrrvzP",
        "outputId": "cdab207b-ab1f-404e-a6cf-75436421f3a5"
      },
      "outputs": [
        {
          "name": "stdout",
          "output_type": "stream",
          "text": [
            "The operation couldn’t be completed. Unable to locate a Java Runtime that supports apt.\n",
            "Please visit http://www.java.com for information on installing Java.\n",
            "\n",
            "The operation couldn’t be completed. Unable to locate a Java Runtime that supports apt.\n",
            "Please visit http://www.java.com for information on installing Java.\n",
            "\n",
            "zsh:1: command not found: pip\n"
          ]
        },
        {
          "ename": "ModuleNotFoundError",
          "evalue": "No module named 'selenium'",
          "output_type": "error",
          "traceback": [
            "\u001b[0;31m---------------------------------------------------------------------------\u001b[0m",
            "\u001b[0;31mModuleNotFoundError\u001b[0m                       Traceback (most recent call last)",
            "Cell \u001b[0;32mIn [15], line 7\u001b[0m\n\u001b[1;32m      5\u001b[0m get_ipython()\u001b[39m.\u001b[39msystem(\u001b[39m'\u001b[39m\u001b[39mpip install selenium\u001b[39m\u001b[39m'\u001b[39m)\n\u001b[1;32m      6\u001b[0m \u001b[39m# set options to be headless, ..\u001b[39;00m\n\u001b[0;32m----> 7\u001b[0m \u001b[39mfrom\u001b[39;00m \u001b[39mselenium\u001b[39;00m \u001b[39mimport\u001b[39;00m webdriver\n\u001b[1;32m      8\u001b[0m options \u001b[39m=\u001b[39m webdriver\u001b[39m.\u001b[39mChromeOptions()\n\u001b[1;32m      9\u001b[0m options\u001b[39m.\u001b[39madd_argument(\u001b[39m'\u001b[39m\u001b[39m--headless\u001b[39m\u001b[39m'\u001b[39m)\n",
            "\u001b[0;31mModuleNotFoundError\u001b[0m: No module named 'selenium'"
          ]
        }
      ],
      "source": [
        "#requirements for colab\n",
        "# install chromium, its driver, and selenium\n",
        "!apt update\n",
        "!apt install chromium-chromedriver\n",
        "!pip install selenium\n",
        "# set options to be headless, ..\n",
        "from selenium import webdriver\n",
        "options = webdriver.ChromeOptions()\n",
        "options.add_argument('--headless')\n",
        "options.add_argument('--no-sandbox')\n",
        "options.add_argument('--disable-dev-shm-usage')\n",
        "# open it, go to a website, and get results"
      ]
    },
    {
      "cell_type": "code",
      "execution_count": 5,
      "metadata": {
        "id": "e7hTe0Gf2-II"
      },
      "outputs": [],
      "source": [
        "from selenium.webdriver.common.by import By"
      ]
    },
    {
      "cell_type": "code",
      "execution_count": 4,
      "metadata": {
        "id": "P4SHpZJP2CBj"
      },
      "outputs": [],
      "source": [
        "wd = webdriver.Chrome(options=options)\n",
        "wd.get(\"https://play.google.com/store/movies?hl=en_US&gl=US\")"
      ]
    },
    {
      "cell_type": "code",
      "execution_count": 13,
      "metadata": {
        "colab": {
          "base_uri": "https://localhost:8080/"
        },
        "id": "gbr_Oj6V2awf",
        "outputId": "b376bdfc-2574-4d23-e267-a2a104fa6ddb"
      },
      "outputs": [
        {
          "data": {
            "text/plain": [
              "155"
            ]
          },
          "execution_count": 13,
          "metadata": {},
          "output_type": "execute_result"
        }
      ],
      "source": [
        "elements = wd.find_elements(By.CLASS_NAME,\"VfPpkd-EScbFb-JIbuQc\")\n",
        "len(elements)"
      ]
    },
    {
      "cell_type": "code",
      "execution_count": 19,
      "metadata": {
        "colab": {
          "base_uri": "https://localhost:8080/"
        },
        "id": "eSP2LRLb3dLS",
        "outputId": "307fefd1-e7f7-4d62-d506-f70865caf0fe"
      },
      "outputs": [
        {
          "data": {
            "text/plain": [
              "['https://play.google.com/store/movies/details/Bullet_Train?id=IE8cncuxU1w.P',\n",
              " 'https://play.google.com/store/movies/details/Top_Gun_Maverick?id=PnS5p3AmpRE.P',\n",
              " 'https://play.google.com/store/movies/details/The_Invitation?id=PvjU4vB9lY8.P']"
            ]
          },
          "execution_count": 19,
          "metadata": {},
          "output_type": "execute_result"
        }
      ],
      "source": [
        "links = [el.find_element(By.TAG_NAME, 'a') for el in elements]\n",
        "urls = [el.get_attribute('href') for el in links]\n",
        "urls[:3]"
      ]
    },
    {
      "cell_type": "code",
      "execution_count": 63,
      "metadata": {
        "colab": {
          "base_uri": "https://localhost:8080/"
        },
        "id": "_dwE6tbHBrhr",
        "outputId": "cadcfa73-9336-4e8e-f3fe-3c2fcc398819"
      },
      "outputs": [
        {
          "name": "stdout",
          "output_type": "stream",
          "text": [
            "155\n"
          ]
        }
      ],
      "source": [
        "print(len(urls))"
      ]
    },
    {
      "cell_type": "code",
      "execution_count": 64,
      "metadata": {
        "id": "DLsdVsFj4SBc"
      },
      "outputs": [],
      "source": [
        "data = []\n",
        "for url in urls:\n",
        "  try:\n",
        "    wd.get(url)\n",
        "    title = wd.find_element(By.TAG_NAME, 'h1').find_element(By.TAG_NAME, 'span').get_attribute('innerHTML')\n",
        "    review_count = wd.find_element(By.CLASS_NAME, \"g1rdde\").text.split(\" \")[0]\n",
        "    comments_buttons = wd.find_elements(By.CLASS_NAME, \"VxpoF\")\n",
        "    if len(comments_buttons) <= 1:\n",
        "      continue\n",
        "    wd.execute_script(\"window.scrollTo(0, 1000)\")\n",
        "    comments_buttons[1].click()\n",
        "    all_comments = [el.text for el in wd.find_elements(By.CLASS_NAME, \"h3YV2d\")]\n",
        "    comments_text = \"\"\n",
        "    for comm in all_comments:\n",
        "      comments_text += \" /// \" + comm\n",
        "    movie = {\"title\":title, \"reviews\":review_count, \"comments\": comments_text}\n",
        "    data.append(movie)\n",
        "  except:\n",
        "    continue"
      ]
    },
    {
      "cell_type": "code",
      "execution_count": 65,
      "metadata": {
        "id": "CB1bEJKjAJ0D"
      },
      "outputs": [],
      "source": [
        "import pandas as pd"
      ]
    },
    {
      "cell_type": "code",
      "execution_count": 67,
      "metadata": {
        "colab": {
          "base_uri": "https://localhost:8080/",
          "height": 424
        },
        "id": "z7amByw1AGdQ",
        "outputId": "39e28741-d00f-4f1f-d95d-0a4e3b5ab92c"
      },
      "outputs": [
        {
          "data": {
            "text/html": [
              "\n",
              "  <div id=\"df-9e04d92d-d07b-4860-a284-0d0681f21213\">\n",
              "    <div class=\"colab-df-container\">\n",
              "      <div>\n",
              "<style scoped>\n",
              "    .dataframe tbody tr th:only-of-type {\n",
              "        vertical-align: middle;\n",
              "    }\n",
              "\n",
              "    .dataframe tbody tr th {\n",
              "        vertical-align: top;\n",
              "    }\n",
              "\n",
              "    .dataframe thead th {\n",
              "        text-align: right;\n",
              "    }\n",
              "</style>\n",
              "<table border=\"1\" class=\"dataframe\">\n",
              "  <thead>\n",
              "    <tr style=\"text-align: right;\">\n",
              "      <th></th>\n",
              "      <th>title</th>\n",
              "      <th>reviews</th>\n",
              "      <th>comments</th>\n",
              "    </tr>\n",
              "  </thead>\n",
              "  <tbody>\n",
              "    <tr>\n",
              "      <th>0</th>\n",
              "      <td>Bullet Train</td>\n",
              "      <td>58</td>\n",
              "      <td>/// They should punish the people that made t...</td>\n",
              "    </tr>\n",
              "    <tr>\n",
              "      <th>1</th>\n",
              "      <td>Top Gun: Maverick</td>\n",
              "      <td>792</td>\n",
              "      <td>/// I had really high expectations but it fel...</td>\n",
              "    </tr>\n",
              "    <tr>\n",
              "      <th>2</th>\n",
              "      <td>The Invitation</td>\n",
              "      <td>9</td>\n",
              "      <td>/// So far the best scary movie this year! //...</td>\n",
              "    </tr>\n",
              "    <tr>\n",
              "      <th>3</th>\n",
              "      <td>Clerks III</td>\n",
              "      <td>20</td>\n",
              "      <td>/// It is hard to talk about without spoiling...</td>\n",
              "    </tr>\n",
              "    <tr>\n",
              "      <th>4</th>\n",
              "      <td>The Retaliators</td>\n",
              "      <td>Tomatometer</td>\n",
              "      <td></td>\n",
              "    </tr>\n",
              "    <tr>\n",
              "      <th>...</th>\n",
              "      <td>...</td>\n",
              "      <td>...</td>\n",
              "      <td>...</td>\n",
              "    </tr>\n",
              "    <tr>\n",
              "      <th>124</th>\n",
              "      <td>Slash/Back</td>\n",
              "      <td>Tomatometer</td>\n",
              "      <td></td>\n",
              "    </tr>\n",
              "    <tr>\n",
              "      <th>125</th>\n",
              "      <td>Beyond the Neon</td>\n",
              "      <td>2</td>\n",
              "      <td>/// It was a good movie overall, the ending w...</td>\n",
              "    </tr>\n",
              "    <tr>\n",
              "      <th>126</th>\n",
              "      <td>Old Man</td>\n",
              "      <td>2</td>\n",
              "      <td>/// Excellent- especially Liana Wright-Mark. ...</td>\n",
              "    </tr>\n",
              "    <tr>\n",
              "      <th>127</th>\n",
              "      <td>The Good House</td>\n",
              "      <td>Tomatometer</td>\n",
              "      <td></td>\n",
              "    </tr>\n",
              "    <tr>\n",
              "      <th>128</th>\n",
              "      <td>Speak No Evil</td>\n",
              "      <td>Tomatometer</td>\n",
              "      <td></td>\n",
              "    </tr>\n",
              "  </tbody>\n",
              "</table>\n",
              "<p>129 rows × 3 columns</p>\n",
              "</div>\n",
              "      <button class=\"colab-df-convert\" onclick=\"convertToInteractive('df-9e04d92d-d07b-4860-a284-0d0681f21213')\"\n",
              "              title=\"Convert this dataframe to an interactive table.\"\n",
              "              style=\"display:none;\">\n",
              "        \n",
              "  <svg xmlns=\"http://www.w3.org/2000/svg\" height=\"24px\"viewBox=\"0 0 24 24\"\n",
              "       width=\"24px\">\n",
              "    <path d=\"M0 0h24v24H0V0z\" fill=\"none\"/>\n",
              "    <path d=\"M18.56 5.44l.94 2.06.94-2.06 2.06-.94-2.06-.94-.94-2.06-.94 2.06-2.06.94zm-11 1L8.5 8.5l.94-2.06 2.06-.94-2.06-.94L8.5 2.5l-.94 2.06-2.06.94zm10 10l.94 2.06.94-2.06 2.06-.94-2.06-.94-.94-2.06-.94 2.06-2.06.94z\"/><path d=\"M17.41 7.96l-1.37-1.37c-.4-.4-.92-.59-1.43-.59-.52 0-1.04.2-1.43.59L10.3 9.45l-7.72 7.72c-.78.78-.78 2.05 0 2.83L4 21.41c.39.39.9.59 1.41.59.51 0 1.02-.2 1.41-.59l7.78-7.78 2.81-2.81c.8-.78.8-2.07 0-2.86zM5.41 20L4 18.59l7.72-7.72 1.47 1.35L5.41 20z\"/>\n",
              "  </svg>\n",
              "      </button>\n",
              "      \n",
              "  <style>\n",
              "    .colab-df-container {\n",
              "      display:flex;\n",
              "      flex-wrap:wrap;\n",
              "      gap: 12px;\n",
              "    }\n",
              "\n",
              "    .colab-df-convert {\n",
              "      background-color: #E8F0FE;\n",
              "      border: none;\n",
              "      border-radius: 50%;\n",
              "      cursor: pointer;\n",
              "      display: none;\n",
              "      fill: #1967D2;\n",
              "      height: 32px;\n",
              "      padding: 0 0 0 0;\n",
              "      width: 32px;\n",
              "    }\n",
              "\n",
              "    .colab-df-convert:hover {\n",
              "      background-color: #E2EBFA;\n",
              "      box-shadow: 0px 1px 2px rgba(60, 64, 67, 0.3), 0px 1px 3px 1px rgba(60, 64, 67, 0.15);\n",
              "      fill: #174EA6;\n",
              "    }\n",
              "\n",
              "    [theme=dark] .colab-df-convert {\n",
              "      background-color: #3B4455;\n",
              "      fill: #D2E3FC;\n",
              "    }\n",
              "\n",
              "    [theme=dark] .colab-df-convert:hover {\n",
              "      background-color: #434B5C;\n",
              "      box-shadow: 0px 1px 3px 1px rgba(0, 0, 0, 0.15);\n",
              "      filter: drop-shadow(0px 1px 2px rgba(0, 0, 0, 0.3));\n",
              "      fill: #FFFFFF;\n",
              "    }\n",
              "  </style>\n",
              "\n",
              "      <script>\n",
              "        const buttonEl =\n",
              "          document.querySelector('#df-9e04d92d-d07b-4860-a284-0d0681f21213 button.colab-df-convert');\n",
              "        buttonEl.style.display =\n",
              "          google.colab.kernel.accessAllowed ? 'block' : 'none';\n",
              "\n",
              "        async function convertToInteractive(key) {\n",
              "          const element = document.querySelector('#df-9e04d92d-d07b-4860-a284-0d0681f21213');\n",
              "          const dataTable =\n",
              "            await google.colab.kernel.invokeFunction('convertToInteractive',\n",
              "                                                     [key], {});\n",
              "          if (!dataTable) return;\n",
              "\n",
              "          const docLinkHtml = 'Like what you see? Visit the ' +\n",
              "            '<a target=\"_blank\" href=https://colab.research.google.com/notebooks/data_table.ipynb>data table notebook</a>'\n",
              "            + ' to learn more about interactive tables.';\n",
              "          element.innerHTML = '';\n",
              "          dataTable['output_type'] = 'display_data';\n",
              "          await google.colab.output.renderOutput(dataTable, element);\n",
              "          const docLink = document.createElement('div');\n",
              "          docLink.innerHTML = docLinkHtml;\n",
              "          element.appendChild(docLink);\n",
              "        }\n",
              "      </script>\n",
              "    </div>\n",
              "  </div>\n",
              "  "
            ],
            "text/plain": [
              "                 title      reviews  \\\n",
              "0         Bullet Train           58   \n",
              "1    Top Gun: Maverick          792   \n",
              "2       The Invitation            9   \n",
              "3           Clerks III           20   \n",
              "4      The Retaliators  Tomatometer   \n",
              "..                 ...          ...   \n",
              "124         Slash/Back  Tomatometer   \n",
              "125    Beyond the Neon            2   \n",
              "126            Old Man            2   \n",
              "127     The Good House  Tomatometer   \n",
              "128      Speak No Evil  Tomatometer   \n",
              "\n",
              "                                              comments  \n",
              "0     /// They should punish the people that made t...  \n",
              "1     /// I had really high expectations but it fel...  \n",
              "2     /// So far the best scary movie this year! //...  \n",
              "3     /// It is hard to talk about without spoiling...  \n",
              "4                                                       \n",
              "..                                                 ...  \n",
              "124                                                     \n",
              "125   /// It was a good movie overall, the ending w...  \n",
              "126   /// Excellent- especially Liana Wright-Mark. ...  \n",
              "127                                                     \n",
              "128                                                     \n",
              "\n",
              "[129 rows x 3 columns]"
            ]
          },
          "execution_count": 67,
          "metadata": {},
          "output_type": "execute_result"
        }
      ],
      "source": [
        "pd.DataFrame(data)"
      ]
    }
  ],
  "metadata": {
    "colab": {
      "provenance": []
    },
    "kernelspec": {
      "display_name": "Python 3.10.8 64-bit",
      "language": "python",
      "name": "python3"
    },
    "language_info": {
      "codemirror_mode": {
        "name": "ipython",
        "version": 3
      },
      "file_extension": ".py",
      "mimetype": "text/x-python",
      "name": "python",
      "nbconvert_exporter": "python",
      "pygments_lexer": "ipython3",
      "version": "3.10.8"
    },
    "vscode": {
      "interpreter": {
        "hash": "b0fa6594d8f4cbf19f97940f81e996739fb7646882a419484c72d19e05852a7e"
      }
    }
  },
  "nbformat": 4,
  "nbformat_minor": 0
}
