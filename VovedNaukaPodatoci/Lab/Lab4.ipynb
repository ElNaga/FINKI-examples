{
  "nbformat": 4,
  "nbformat_minor": 0,
  "metadata": {
    "colab": {
      "provenance": []
    },
    "kernelspec": {
      "name": "python3",
      "display_name": "Python 3"
    },
    "language_info": {
      "name": "python"
    }
  },
  "cells": [
    {
      "cell_type": "markdown",
      "source": [
        "<ul><font size = 5 color='Orange'>\n",
        "Learning Goals</font>\n",
        "<font color = 'Orange'>\n",
        "<ul>We are using the same dataset as the previous laboratory exercise, now you need to build Neural networks</ul>\n",
        "\n",
        "<li>Build three different networks with using:</li>\n",
        "different layers, activation functions, neurans per layers, number of layers\n",
        "<li>train your network and set the optimal number of epochs and batch size</li>\n",
        "<li>Evaluate the three networks on the same test dataset</li>\n",
        "<li>Compare the results</li>\n",
        "</ul>"
      ],
      "metadata": {
        "id": "wsPEypIyjSq-"
      }
    },
    {
      "cell_type": "markdown",
      "source": [
        "The Dataset for this exercise depends on your index number i.e number_of_data_set = index % 10:\n",
        "\n",
        "\n",
        "0.  https://www.kaggle.com/tunguz/us-elections-dataset\n",
        "1.  https://www.kaggle.com/andrewmvd/heart-failure-clinical-data\n",
        "2.  https://www.kaggle.com/sootersaalu/amazon-top-50-bestselling-books-2009-2019\n",
        "3.  https://www.kaggle.com/anmolkumar/health-insurance-cross-sell-prediction\n",
        "4.  https://www.kaggle.com/uciml/red-wine-quality-cortez-et-al-2009\n",
        "5.  https://www.kaggle.com/anmolkumar/house-price-prediction-challenge\n",
        "6.  https://www.kaggle.com/datasets/tadhgfitzgerald/fifa-international-soccer-mens-ranking-1993now\n",
        "7.  https://www.kaggle.com/arslanali4343/real-estate-dataset\n",
        "8.  https://www.kaggle.com/terenceshin/covid19s-impact-on-airport-traffic\n",
        "9.  https://www.kaggle.com/arslanali4343/top-personality-dataset\n",
        "\n",
        "\n",
        "\n",
        "\n",
        "\n"
      ],
      "metadata": {
        "id": "qO5SWztjhay0"
      }
    },
    {
      "cell_type": "code",
      "source": [
        "import pandas as pd\n",
        "from sklearn.preprocessing import LabelEncoder\n",
        "df_train = pd.read_csv(\"/content/train.csv\")\n",
        "df_train.head()\n",
        "enc_gender = LabelEncoder()\n",
        "enc_gender.fit(df_train['Gender'])\n",
        "enc_vehicle_age = LabelEncoder()\n",
        "enc_vehicle_age.fit(df_train['Vehicle_Age'])\n",
        "enc_vehicle_damage = LabelEncoder()\n",
        "enc_vehicle_damage.fit(df_train['Vehicle_Damage'])\n",
        "df_train['Gender'] = enc_gender.transform(df_train['Gender'])\n",
        "\n",
        "df_train['Vehicle_Age'] = enc_vehicle_age.transform(df_train['Vehicle_Age'])\n",
        "\n",
        "df_train['Vehicle_Damage'] = enc_vehicle_damage.transform(df_train['Vehicle_Damage'])\n",
        "\n",
        "df_train.drop(['id'], axis=1, inplace=True)\n",
        "df_train.head()\n",
        "df_train = pd.concat([df_train[df_train['Response'] == 1], df_train[df_train['Response'] == 0][:46710]], axis=0)"
      ],
      "metadata": {
        "id": "WORtycj8iCA8"
      },
      "execution_count": null,
      "outputs": []
    },
    {
      "cell_type": "code",
      "source": [
        "from sklearn.model_selection import train_test_split\n",
        "X_train, X_test, y_train, y_test = train_test_split(df_train.drop(['Response'], axis=1), df_train['Response'], test_size=0.33, random_state=42)"
      ],
      "metadata": {
        "id": "oxwunj_2KVjP"
      },
      "execution_count": null,
      "outputs": []
    },
    {
      "cell_type": "code",
      "source": [
        "X_train.shape"
      ],
      "metadata": {
        "colab": {
          "base_uri": "https://localhost:8080/"
        },
        "id": "gztrQ2woKdcj",
        "outputId": "2239a273-8bdf-4f46-c98f-b518e5e487a7"
      },
      "execution_count": null,
      "outputs": [
        {
          "output_type": "execute_result",
          "data": {
            "text/plain": [
              "(62591, 10)"
            ]
          },
          "metadata": {},
          "execution_count": 3
        }
      ]
    },
    {
      "cell_type": "code",
      "source": [
        "from sklearn.preprocessing import StandardScaler\n",
        "sc = StandardScaler()\n",
        "X_train = sc.fit_transform(X_train)\n",
        "X_test = sc.transform(X_test)"
      ],
      "metadata": {
        "id": "NlUHWk3-HlJt"
      },
      "execution_count": null,
      "outputs": []
    },
    {
      "cell_type": "code",
      "execution_count": null,
      "metadata": {
        "id": "tNi3STyahTOf"
      },
      "outputs": [],
      "source": [
        "from keras.models import Sequential\n",
        "from keras.layers import Dense"
      ]
    },
    {
      "cell_type": "code",
      "source": [
        "model1 = Sequential()\n",
        "model1.add(Dense(32, input_dim=10, activation='relu'))\n",
        "\n",
        "model1.add(Dense(16, activation='relu'))\n",
        "model1.add(Dense(16, activation='relu'))\n",
        "\n",
        "model1.add(Dense(1,  activation='sigmoid'))\n",
        "model1.compile(loss='binary_crossentropy', optimizer='rmsprop', metrics=['accuracy']) "
      ],
      "metadata": {
        "id": "ZC0lG9VnIq17"
      },
      "execution_count": null,
      "outputs": []
    },
    {
      "cell_type": "code",
      "source": [
        "model2 = Sequential()\n",
        "model2.add(Dense(128, input_dim=10, kernel_initializer='uniform', activation='relu'))\n",
        "\n",
        "model2.add(Dense(64, activation='relu'))\n",
        "model2.add(Dense(32, activation='relu'))\n",
        "model2.add(Dense(32, activation='relu'))\n",
        "\n",
        "model2.add(Dense(1, activation='sigmoid'))\n",
        "model2.compile(loss='binary_crossentropy', optimizer='adam', metrics=['accuracy']) "
      ],
      "metadata": {
        "id": "uSKRUsL4I5XG"
      },
      "execution_count": null,
      "outputs": []
    },
    {
      "cell_type": "code",
      "source": [
        "model3 = Sequential()\n",
        "model3.add(Dense(128, input_dim=10, kernel_initializer='uniform', activation='relu'))\n",
        "\n",
        "model3.add(Dense(64, activation='relu'))\n",
        "model3.add(Dense(32, activation='relu'))\n",
        "model3.add(Dense(32, activation='relu'))\n",
        "\n",
        "model3.add(Dense(2, activation='softmax'))\n",
        "model3.compile(loss='binary_crossentropy', optimizer='adam', metrics=['accuracy']) "
      ],
      "metadata": {
        "id": "78h9ZVvdI-B8"
      },
      "execution_count": null,
      "outputs": []
    },
    {
      "cell_type": "code",
      "source": [
        "model4 = Sequential()\n",
        "model4.add(Dense(128, input_dim=10, kernel_initializer='uniform', activation='relu'))\n",
        "\n",
        "model4.add(Dense(64, activation='relu'))\n",
        "\n",
        "model4.add(Dense(1, activation='sigmoid'))\n",
        "model4.compile(loss='binary_crossentropy', optimizer='adam', metrics=['accuracy']) "
      ],
      "metadata": {
        "id": "ac9KBQPLJKOa"
      },
      "execution_count": null,
      "outputs": []
    },
    {
      "cell_type": "code",
      "source": [
        "model5 = Sequential()\n",
        "model5.add(Dense(128, input_dim=10, kernel_initializer='uniform', activation='relu'))\n",
        "model5.add(Dense(256, activation='relu'))\n",
        "model5.add(Dense(256, activation='relu'))\n",
        "model5.add(Dense(128, activation='relu'))\n",
        "model5.add(Dense(128, activation='relu'))\n",
        "\n",
        "model5.add(Dense(64, activation='relu'))\n",
        "\n",
        "model5.add(Dense(1, activation='sigmoid'))\n",
        "model5.compile(loss='binary_crossentropy', optimizer='adam', metrics=['accuracy']) "
      ],
      "metadata": {
        "id": "Zrs17AquJSmr"
      },
      "execution_count": null,
      "outputs": []
    },
    {
      "cell_type": "code",
      "source": [
        "model6 = Sequential()\n",
        "model6.add(Dense(4, input_dim=10, activation='relu'))\n",
        "model6.add(Dense(4, activation='relu'))\n",
        "\n",
        "model6.add(Dense(1, activation='sigmoid'))\n",
        "model6.compile(loss='binary_crossentropy', optimizer='adam', metrics=['accuracy']) "
      ],
      "metadata": {
        "id": "jNg6nFXQJgYV"
      },
      "execution_count": null,
      "outputs": []
    },
    {
      "cell_type": "code",
      "source": [
        "models = [model1, model2, model3, model4, model5, model6]"
      ],
      "metadata": {
        "id": "Dl5AzwcDJnVX"
      },
      "execution_count": null,
      "outputs": []
    },
    {
      "cell_type": "code",
      "source": [
        "import numpy as np"
      ],
      "metadata": {
        "id": "EFjHgLyyUn9k"
      },
      "execution_count": null,
      "outputs": []
    },
    {
      "cell_type": "code",
      "source": [
        "for model in models:\n",
        "  print(model.summary())\n",
        "  if model == model3:\n",
        "    model.fit(X_train, np.array(list([np.array((0,1)) if t==0 else np.array((1,0)) for t in y_train])), epochs=15) \n",
        "  else:\n",
        "    model.fit(X_train, y_train, epochs=15) "
      ],
      "metadata": {
        "colab": {
          "base_uri": "https://localhost:8080/"
        },
        "id": "t_XZePRgJtj1",
        "outputId": "9c212591-a0b6-43c6-9587-ac2243fb665d"
      },
      "execution_count": null,
      "outputs": [
        {
          "output_type": "stream",
          "name": "stdout",
          "text": [
            "Model: \"sequential\"\n",
            "_________________________________________________________________\n",
            " Layer (type)                Output Shape              Param #   \n",
            "=================================================================\n",
            " dense (Dense)               (None, 32)                352       \n",
            "                                                                 \n",
            " dense_1 (Dense)             (None, 16)                528       \n",
            "                                                                 \n",
            " dense_2 (Dense)             (None, 16)                272       \n",
            "                                                                 \n",
            " dense_3 (Dense)             (None, 1)                 17        \n",
            "                                                                 \n",
            "=================================================================\n",
            "Total params: 1,169\n",
            "Trainable params: 1,169\n",
            "Non-trainable params: 0\n",
            "_________________________________________________________________\n",
            "None\n",
            "Epoch 1/15\n",
            "1956/1956 [==============================] - 15s 7ms/step - loss: 0.4449 - accuracy: 0.7849\n",
            "Epoch 2/15\n",
            "1956/1956 [==============================] - 7s 4ms/step - loss: 0.4317 - accuracy: 0.7916\n",
            "Epoch 3/15\n",
            "1956/1956 [==============================] - 4s 2ms/step - loss: 0.4299 - accuracy: 0.7938\n",
            "Epoch 4/15\n",
            "1956/1956 [==============================] - 4s 2ms/step - loss: 0.4293 - accuracy: 0.7939\n",
            "Epoch 5/15\n",
            "1956/1956 [==============================] - 4s 2ms/step - loss: 0.4285 - accuracy: 0.7951\n",
            "Epoch 6/15\n",
            "1956/1956 [==============================] - 4s 2ms/step - loss: 0.4281 - accuracy: 0.7948\n",
            "Epoch 7/15\n",
            "1956/1956 [==============================] - 4s 2ms/step - loss: 0.4277 - accuracy: 0.7945\n",
            "Epoch 8/15\n",
            "1956/1956 [==============================] - 4s 2ms/step - loss: 0.4276 - accuracy: 0.7948\n",
            "Epoch 9/15\n",
            "1956/1956 [==============================] - 4s 2ms/step - loss: 0.4275 - accuracy: 0.7951\n",
            "Epoch 10/15\n",
            "1956/1956 [==============================] - 4s 2ms/step - loss: 0.4275 - accuracy: 0.7952\n",
            "Epoch 11/15\n",
            "1956/1956 [==============================] - 4s 2ms/step - loss: 0.4272 - accuracy: 0.7955\n",
            "Epoch 12/15\n",
            "1956/1956 [==============================] - 4s 2ms/step - loss: 0.4272 - accuracy: 0.7958\n",
            "Epoch 13/15\n",
            "1956/1956 [==============================] - 4s 2ms/step - loss: 0.4269 - accuracy: 0.7961\n",
            "Epoch 14/15\n",
            "1956/1956 [==============================] - 4s 2ms/step - loss: 0.4266 - accuracy: 0.7964\n",
            "Epoch 15/15\n",
            "1956/1956 [==============================] - 4s 2ms/step - loss: 0.4266 - accuracy: 0.7956\n",
            "Model: \"sequential_1\"\n",
            "_________________________________________________________________\n",
            " Layer (type)                Output Shape              Param #   \n",
            "=================================================================\n",
            " dense_4 (Dense)             (None, 128)               1408      \n",
            "                                                                 \n",
            " dense_5 (Dense)             (None, 64)                8256      \n",
            "                                                                 \n",
            " dense_6 (Dense)             (None, 32)                2080      \n",
            "                                                                 \n",
            " dense_7 (Dense)             (None, 32)                1056      \n",
            "                                                                 \n",
            " dense_8 (Dense)             (None, 1)                 33        \n",
            "                                                                 \n",
            "=================================================================\n",
            "Total params: 12,833\n",
            "Trainable params: 12,833\n",
            "Non-trainable params: 0\n",
            "_________________________________________________________________\n",
            "None\n",
            "Epoch 1/15\n",
            "1956/1956 [==============================] - 5s 2ms/step - loss: 0.4379 - accuracy: 0.7905\n",
            "Epoch 2/15\n",
            "1956/1956 [==============================] - 5s 2ms/step - loss: 0.4310 - accuracy: 0.7935\n",
            "Epoch 3/15\n",
            "1956/1956 [==============================] - 5s 2ms/step - loss: 0.4293 - accuracy: 0.7935\n",
            "Epoch 4/15\n",
            "1956/1956 [==============================] - 5s 2ms/step - loss: 0.4281 - accuracy: 0.7937\n",
            "Epoch 5/15\n",
            "1956/1956 [==============================] - 5s 2ms/step - loss: 0.4274 - accuracy: 0.7943\n",
            "Epoch 6/15\n",
            "1956/1956 [==============================] - 5s 2ms/step - loss: 0.4270 - accuracy: 0.7938\n",
            "Epoch 7/15\n",
            "1956/1956 [==============================] - 9s 5ms/step - loss: 0.4267 - accuracy: 0.7943\n",
            "Epoch 8/15\n",
            "1956/1956 [==============================] - 5s 2ms/step - loss: 0.4258 - accuracy: 0.7945\n",
            "Epoch 9/15\n",
            "1956/1956 [==============================] - 5s 3ms/step - loss: 0.4254 - accuracy: 0.7955\n",
            "Epoch 10/15\n",
            "1956/1956 [==============================] - 5s 3ms/step - loss: 0.4253 - accuracy: 0.7949\n",
            "Epoch 11/15\n",
            "1956/1956 [==============================] - 5s 2ms/step - loss: 0.4249 - accuracy: 0.7955\n",
            "Epoch 12/15\n",
            "1956/1956 [==============================] - 5s 2ms/step - loss: 0.4245 - accuracy: 0.7955\n",
            "Epoch 13/15\n",
            "1956/1956 [==============================] - 5s 2ms/step - loss: 0.4239 - accuracy: 0.7951\n",
            "Epoch 14/15\n",
            "1956/1956 [==============================] - 5s 2ms/step - loss: 0.4241 - accuracy: 0.7964\n",
            "Epoch 15/15\n",
            "1956/1956 [==============================] - 5s 2ms/step - loss: 0.4235 - accuracy: 0.7961\n",
            "Model: \"sequential_2\"\n",
            "_________________________________________________________________\n",
            " Layer (type)                Output Shape              Param #   \n",
            "=================================================================\n",
            " dense_9 (Dense)             (None, 128)               1408      \n",
            "                                                                 \n",
            " dense_10 (Dense)            (None, 64)                8256      \n",
            "                                                                 \n",
            " dense_11 (Dense)            (None, 32)                2080      \n",
            "                                                                 \n",
            " dense_12 (Dense)            (None, 32)                1056      \n",
            "                                                                 \n",
            " dense_13 (Dense)            (None, 2)                 66        \n",
            "                                                                 \n",
            "=================================================================\n",
            "Total params: 12,866\n",
            "Trainable params: 12,866\n",
            "Non-trainable params: 0\n",
            "_________________________________________________________________\n",
            "None\n",
            "Epoch 1/15\n",
            "1956/1956 [==============================] - 6s 3ms/step - loss: 0.4382 - accuracy: 0.7905\n",
            "Epoch 2/15\n",
            "1956/1956 [==============================] - 5s 3ms/step - loss: 0.4302 - accuracy: 0.7920\n",
            "Epoch 3/15\n",
            "1956/1956 [==============================] - 5s 3ms/step - loss: 0.4292 - accuracy: 0.7928\n",
            "Epoch 4/15\n",
            "1956/1956 [==============================] - 5s 3ms/step - loss: 0.4282 - accuracy: 0.7937\n",
            "Epoch 5/15\n",
            "1956/1956 [==============================] - 5s 3ms/step - loss: 0.4277 - accuracy: 0.7941\n",
            "Epoch 6/15\n",
            "1956/1956 [==============================] - 5s 3ms/step - loss: 0.4269 - accuracy: 0.7943\n",
            "Epoch 7/15\n",
            "1956/1956 [==============================] - 5s 3ms/step - loss: 0.4266 - accuracy: 0.7942\n",
            "Epoch 8/15\n",
            "1956/1956 [==============================] - 5s 3ms/step - loss: 0.4259 - accuracy: 0.7956\n",
            "Epoch 9/15\n",
            "1956/1956 [==============================] - 5s 3ms/step - loss: 0.4257 - accuracy: 0.7954\n",
            "Epoch 10/15\n",
            "1956/1956 [==============================] - 5s 3ms/step - loss: 0.4250 - accuracy: 0.7953\n",
            "Epoch 11/15\n",
            "1956/1956 [==============================] - 5s 3ms/step - loss: 0.4249 - accuracy: 0.7962\n",
            "Epoch 12/15\n",
            "1956/1956 [==============================] - 5s 3ms/step - loss: 0.4249 - accuracy: 0.7957\n",
            "Epoch 13/15\n",
            "1956/1956 [==============================] - 5s 3ms/step - loss: 0.4241 - accuracy: 0.7957\n",
            "Epoch 14/15\n",
            "1956/1956 [==============================] - 5s 3ms/step - loss: 0.4237 - accuracy: 0.7965\n",
            "Epoch 15/15\n",
            "1956/1956 [==============================] - 5s 3ms/step - loss: 0.4239 - accuracy: 0.7965\n",
            "Model: \"sequential_3\"\n",
            "_________________________________________________________________\n",
            " Layer (type)                Output Shape              Param #   \n",
            "=================================================================\n",
            " dense_14 (Dense)            (None, 128)               1408      \n",
            "                                                                 \n",
            " dense_15 (Dense)            (None, 64)                8256      \n",
            "                                                                 \n",
            " dense_16 (Dense)            (None, 1)                 65        \n",
            "                                                                 \n",
            "=================================================================\n",
            "Total params: 9,729\n",
            "Trainable params: 9,729\n",
            "Non-trainable params: 0\n",
            "_________________________________________________________________\n",
            "None\n",
            "Epoch 1/15\n",
            "1956/1956 [==============================] - 5s 2ms/step - loss: 0.4372 - accuracy: 0.7892\n",
            "Epoch 2/15\n",
            "1956/1956 [==============================] - 4s 2ms/step - loss: 0.4300 - accuracy: 0.7930\n",
            "Epoch 3/15\n",
            "1956/1956 [==============================] - 4s 2ms/step - loss: 0.4286 - accuracy: 0.7943\n",
            "Epoch 4/15\n",
            "1956/1956 [==============================] - 5s 2ms/step - loss: 0.4278 - accuracy: 0.7929\n",
            "Epoch 5/15\n",
            "1956/1956 [==============================] - 4s 2ms/step - loss: 0.4271 - accuracy: 0.7946\n",
            "Epoch 6/15\n",
            "1956/1956 [==============================] - 5s 2ms/step - loss: 0.4266 - accuracy: 0.7945\n",
            "Epoch 7/15\n",
            "1956/1956 [==============================] - 4s 2ms/step - loss: 0.4261 - accuracy: 0.7948\n",
            "Epoch 8/15\n",
            "1956/1956 [==============================] - 4s 2ms/step - loss: 0.4257 - accuracy: 0.7949\n",
            "Epoch 9/15\n",
            "1956/1956 [==============================] - 4s 2ms/step - loss: 0.4255 - accuracy: 0.7953\n",
            "Epoch 10/15\n",
            "1956/1956 [==============================] - 4s 2ms/step - loss: 0.4251 - accuracy: 0.7957\n",
            "Epoch 11/15\n",
            "1956/1956 [==============================] - 4s 2ms/step - loss: 0.4249 - accuracy: 0.7956\n",
            "Epoch 12/15\n",
            "1956/1956 [==============================] - 4s 2ms/step - loss: 0.4247 - accuracy: 0.7951\n",
            "Epoch 13/15\n",
            "1956/1956 [==============================] - 4s 2ms/step - loss: 0.4242 - accuracy: 0.7960\n",
            "Epoch 14/15\n",
            "1956/1956 [==============================] - 4s 2ms/step - loss: 0.4240 - accuracy: 0.7963\n",
            "Epoch 15/15\n",
            "1956/1956 [==============================] - 4s 2ms/step - loss: 0.4236 - accuracy: 0.7955\n",
            "Model: \"sequential_4\"\n",
            "_________________________________________________________________\n",
            " Layer (type)                Output Shape              Param #   \n",
            "=================================================================\n",
            " dense_17 (Dense)            (None, 128)               1408      \n",
            "                                                                 \n",
            " dense_18 (Dense)            (None, 256)               33024     \n",
            "                                                                 \n",
            " dense_19 (Dense)            (None, 256)               65792     \n",
            "                                                                 \n",
            " dense_20 (Dense)            (None, 128)               32896     \n",
            "                                                                 \n",
            " dense_21 (Dense)            (None, 128)               16512     \n",
            "                                                                 \n",
            " dense_22 (Dense)            (None, 64)                8256      \n",
            "                                                                 \n",
            " dense_23 (Dense)            (None, 1)                 65        \n",
            "                                                                 \n",
            "=================================================================\n",
            "Total params: 157,953\n",
            "Trainable params: 157,953\n",
            "Non-trainable params: 0\n",
            "_________________________________________________________________\n",
            "None\n",
            "Epoch 1/15\n",
            "1956/1956 [==============================] - 11s 5ms/step - loss: 0.4388 - accuracy: 0.7895\n",
            "Epoch 2/15\n",
            "1956/1956 [==============================] - 10s 5ms/step - loss: 0.4315 - accuracy: 0.7922\n",
            "Epoch 3/15\n",
            "1956/1956 [==============================] - 11s 5ms/step - loss: 0.4300 - accuracy: 0.7927\n",
            "Epoch 4/15\n",
            "1956/1956 [==============================] - 10s 5ms/step - loss: 0.4288 - accuracy: 0.7937\n",
            "Epoch 5/15\n",
            "1956/1956 [==============================] - 11s 5ms/step - loss: 0.4283 - accuracy: 0.7950\n",
            "Epoch 6/15\n",
            "1956/1956 [==============================] - 11s 6ms/step - loss: 0.4277 - accuracy: 0.7945\n",
            "Epoch 7/15\n",
            "1956/1956 [==============================] - 12s 6ms/step - loss: 0.4266 - accuracy: 0.7943\n",
            "Epoch 8/15\n",
            "1956/1956 [==============================] - 10s 5ms/step - loss: 0.4268 - accuracy: 0.7948\n",
            "Epoch 9/15\n",
            "1956/1956 [==============================] - 10s 5ms/step - loss: 0.4258 - accuracy: 0.7958\n",
            "Epoch 10/15\n",
            "1956/1956 [==============================] - 10s 5ms/step - loss: 0.4258 - accuracy: 0.7950\n",
            "Epoch 11/15\n",
            "1956/1956 [==============================] - 10s 5ms/step - loss: 0.4249 - accuracy: 0.7961\n",
            "Epoch 12/15\n",
            "1956/1956 [==============================] - 10s 5ms/step - loss: 0.4252 - accuracy: 0.7959\n",
            "Epoch 13/15\n",
            "1956/1956 [==============================] - 10s 5ms/step - loss: 0.4239 - accuracy: 0.7962\n",
            "Epoch 14/15\n",
            "1956/1956 [==============================] - 10s 5ms/step - loss: 0.4243 - accuracy: 0.7961\n",
            "Epoch 15/15\n",
            "1956/1956 [==============================] - 10s 5ms/step - loss: 0.4238 - accuracy: 0.7957\n",
            "Model: \"sequential_5\"\n",
            "_________________________________________________________________\n",
            " Layer (type)                Output Shape              Param #   \n",
            "=================================================================\n",
            " dense_24 (Dense)            (None, 4)                 44        \n",
            "                                                                 \n",
            " dense_25 (Dense)            (None, 4)                 20        \n",
            "                                                                 \n",
            " dense_26 (Dense)            (None, 1)                 5         \n",
            "                                                                 \n",
            "=================================================================\n",
            "Total params: 69\n",
            "Trainable params: 69\n",
            "Non-trainable params: 0\n",
            "_________________________________________________________________\n",
            "None\n",
            "Epoch 1/15\n",
            "1956/1956 [==============================] - 4s 2ms/step - loss: 0.5611 - accuracy: 0.6774\n",
            "Epoch 2/15\n",
            "1956/1956 [==============================] - 4s 2ms/step - loss: 0.4440 - accuracy: 0.7848\n",
            "Epoch 3/15\n",
            "1956/1956 [==============================] - 3s 2ms/step - loss: 0.4402 - accuracy: 0.7852\n",
            "Epoch 4/15\n",
            "1956/1956 [==============================] - 3s 2ms/step - loss: 0.4389 - accuracy: 0.7852\n",
            "Epoch 5/15\n",
            "1956/1956 [==============================] - 3s 2ms/step - loss: 0.4359 - accuracy: 0.7852\n",
            "Epoch 6/15\n",
            "1956/1956 [==============================] - 3s 2ms/step - loss: 0.4337 - accuracy: 0.7854\n",
            "Epoch 7/15\n",
            "1956/1956 [==============================] - 4s 2ms/step - loss: 0.4330 - accuracy: 0.7850\n",
            "Epoch 8/15\n",
            "1956/1956 [==============================] - 3s 2ms/step - loss: 0.4326 - accuracy: 0.7851\n",
            "Epoch 9/15\n",
            "1956/1956 [==============================] - 4s 2ms/step - loss: 0.4324 - accuracy: 0.7849\n",
            "Epoch 10/15\n",
            "1956/1956 [==============================] - 4s 2ms/step - loss: 0.4323 - accuracy: 0.7850\n",
            "Epoch 11/15\n",
            "1956/1956 [==============================] - 3s 2ms/step - loss: 0.4321 - accuracy: 0.7879\n",
            "Epoch 12/15\n",
            "1956/1956 [==============================] - 4s 2ms/step - loss: 0.4322 - accuracy: 0.7890\n",
            "Epoch 13/15\n",
            "1956/1956 [==============================] - 4s 2ms/step - loss: 0.4320 - accuracy: 0.7895\n",
            "Epoch 14/15\n",
            "1956/1956 [==============================] - 3s 2ms/step - loss: 0.4319 - accuracy: 0.7891\n",
            "Epoch 15/15\n",
            "1956/1956 [==============================] - 3s 2ms/step - loss: 0.4318 - accuracy: 0.7901\n"
          ]
        }
      ]
    },
    {
      "cell_type": "code",
      "source": [
        "for model in models:\n",
        "  if model == model3:\n",
        "    print(model.evaluate(X_test, np.array(list([np.array((0,1)) if t==0 else np.array((1,0)) for t in y_test]))))\n",
        "  else:\n",
        "    print(model.evaluate(X_test, y_test))"
      ],
      "metadata": {
        "id": "RViYB0-tGNCy",
        "colab": {
          "base_uri": "https://localhost:8080/"
        },
        "outputId": "d5c1ebfc-246a-4461-9792-9f89fd435aa8"
      },
      "execution_count": null,
      "outputs": [
        {
          "output_type": "stream",
          "name": "stdout",
          "text": [
            "964/964 [==============================] - 2s 2ms/step - loss: 0.4352 - accuracy: 0.7914\n",
            "[0.4352288842201233, 0.7913652658462524]\n",
            "964/964 [==============================] - 2s 2ms/step - loss: 0.4318 - accuracy: 0.7910\n",
            "[0.43181782960891724, 0.791008472442627]\n",
            "964/964 [==============================] - 2s 1ms/step - loss: 0.4318 - accuracy: 0.7918\n",
            "[0.4318183958530426, 0.7918193936347961]\n",
            "964/964 [==============================] - 2s 2ms/step - loss: 0.4324 - accuracy: 0.7927\n",
            "[0.432378888130188, 0.792695164680481]\n",
            "964/964 [==============================] - 2s 2ms/step - loss: 0.4331 - accuracy: 0.7904\n",
            "[0.43309465050697327, 0.7903921604156494]\n",
            "964/964 [==============================] - 2s 1ms/step - loss: 0.4371 - accuracy: 0.7856\n",
            "[0.4371201694011688, 0.7855914831161499]\n"
          ]
        }
      ]
    },
    {
      "cell_type": "markdown",
      "source": [
        "Tried different optimizers and configurations but the training score does not improve greatly with each epoch. The more complex neural networks should be atleast able to overfit the data, which is not happening. The problem might be that the models are stuck in some local minimum. Tried changing the optimizer but that didn't yield much better results. The problem is most likely the data itself (for same inputs different outputs)\n",
        "\n",
        "The best improvement was using StandardScaler (improvement from 0.5 to 0.8 accuracy)"
      ],
      "metadata": {
        "id": "NymQidyRP1rr"
      }
    }
  ]
}